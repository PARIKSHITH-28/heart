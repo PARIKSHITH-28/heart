{
  "cells": [
    {
      "cell_type": "code",
      "execution_count": null,
      "id": "ae28d3ca",
      "metadata": {
        "id": "ae28d3ca"
      },
      "outputs": [],
      "source": [
        "#importing basic libraries for Data Preparation amd EDA\n",
        "import numpy as np\n",
        "import pandas as pd\n",
        "import seaborn as sns\n",
        "import matplotlib.pyplot as plt"
      ]
    },
    {
      "cell_type": "code",
      "execution_count": null,
      "id": "b82722d9",
      "metadata": {
        "scrolled": false,
        "id": "b82722d9"
      },
      "outputs": [],
      "source": [
        "pwd"
      ]
    },
    {
      "cell_type": "markdown",
      "id": "f6c95177",
      "metadata": {
        "id": "f6c95177"
      },
      "source": [
        "### **Attribute Information**\n",
        "<pre>\n",
        "1. Age: age of the patient [years]\n",
        "2. Sex: sex of the patient [M: Male, F: Female]\n",
        "3. ChestPainType: chest pain type [TA: Typical Angina, ATA: Atypical Angina, NAP: Non-Anginal Pain, ASY: Asymptomatic]\n",
        "4. RestingBP: resting blood pressure [mm Hg]\n",
        "5. Cholesterol: serum cholesterol [mm/dl]\n",
        "6. FastingBS: fasting blood sugar [1: if FastingBS > 120 mg/dl, 0: otherwise]\n",
        "7. RestingECG: resting electrocardiogram results [Normal: Normal, ST: having ST-T wave abnormality (T wave inversions and/or ST elevation or depression of > 0.05 mV), LVH: showing probable or definite left ventricular hypertrophy by Estes' criteria]\n",
        "8. MaxHR: maximum heart rate achieved [Numeric value between 60 and 202]\n",
        "9. ExerciseAngina: exercise-induced angina [Y: Yes, N: No]\n",
        "10. Oldpeak: oldpeak = ST [Numeric value measured in depression]\n",
        "11. ST_Slope: the slope of the peak exercise ST segment [Up: upsloping, Flat: flat, Down: downsloping]\n",
        "12. HeartDisease: output class [1: heart disease, 0: Normal]\n",
        "</pre>"
      ]
    },
    {
      "cell_type": "markdown",
      "id": "17e90964",
      "metadata": {
        "id": "17e90964"
      },
      "source": [
        "### Data Preparation and Cleaning"
      ]
    },
    {
      "cell_type": "code",
      "execution_count": null,
      "id": "5d796d98",
      "metadata": {
        "scrolled": true,
        "id": "5d796d98"
      },
      "outputs": [],
      "source": [
        "data = pd.read_csv('./heart.csv')"
      ]
    },
    {
      "cell_type": "code",
      "execution_count": null,
      "id": "dda26fbc",
      "metadata": {
        "scrolled": true,
        "id": "dda26fbc"
      },
      "outputs": [],
      "source": [
        "data.head()"
      ]
    },
    {
      "cell_type": "code",
      "execution_count": null,
      "id": "f51e866f",
      "metadata": {
        "id": "f51e866f"
      },
      "outputs": [],
      "source": [
        "al = data['Age'].unique().tolist()\n",
        "for i in al:\n",
        "    a01=data['Age']==i\n",
        "    a1=data['HeartDisease']==1\n",
        "    ac01 =  data[a01].shape[0]\n",
        "    ac1=data[a01 & a1].shape[0]"
      ]
    },
    {
      "cell_type": "code",
      "execution_count": null,
      "id": "536dcf0e",
      "metadata": {
        "scrolled": true,
        "id": "536dcf0e"
      },
      "outputs": [],
      "source": [
        "data['FastingBS'].unique()"
      ]
    },
    {
      "cell_type": "code",
      "execution_count": null,
      "id": "32b07674",
      "metadata": {
        "id": "32b07674"
      },
      "outputs": [],
      "source": [
        "l1=data[data['FastingBS']==1].shape[0]\n",
        "la=data.shape[0]\n",
        "l1/la*100"
      ]
    },
    {
      "cell_type": "markdown",
      "id": "43c9ebdf",
      "metadata": {
        "id": "43c9ebdf"
      },
      "source": [
        "1/4th of the totalis a considerable count therefore its not required to remove th column FastingBS."
      ]
    },
    {
      "cell_type": "code",
      "execution_count": null,
      "id": "8cd58082",
      "metadata": {
        "id": "8cd58082"
      },
      "outputs": [],
      "source": [
        "data.shape"
      ]
    },
    {
      "cell_type": "code",
      "execution_count": null,
      "id": "70474d29",
      "metadata": {
        "id": "70474d29"
      },
      "outputs": [],
      "source": [
        "data.dtypes"
      ]
    },
    {
      "cell_type": "code",
      "execution_count": null,
      "id": "312fd49c",
      "metadata": {
        "id": "312fd49c"
      },
      "outputs": [],
      "source": [
        "data.isnull().any()"
      ]
    },
    {
      "cell_type": "code",
      "execution_count": null,
      "id": "12e981d0",
      "metadata": {
        "id": "12e981d0"
      },
      "outputs": [],
      "source": [
        "data.info()"
      ]
    },
    {
      "cell_type": "markdown",
      "id": "7b136089",
      "metadata": {
        "id": "7b136089"
      },
      "source": [
        "### This shows there is no null values present in the dataset"
      ]
    },
    {
      "cell_type": "markdown",
      "id": "3b9c8e7a",
      "metadata": {
        "id": "3b9c8e7a"
      },
      "source": [
        " ## --------- Performing Exploratory Data Analysis---------"
      ]
    },
    {
      "cell_type": "markdown",
      "id": "a0ebfeda",
      "metadata": {
        "id": "a0ebfeda"
      },
      "source": [
        "#### Seperating numerical and the categorical columns"
      ]
    },
    {
      "cell_type": "code",
      "execution_count": null,
      "id": "0fdddb85",
      "metadata": {
        "id": "0fdddb85"
      },
      "outputs": [],
      "source": [
        "cat = [x for x in data.columns if data[x].dtype == 'object'] \n",
        "print(cat)\n",
        "num = [x for x in data.columns if x not in cat] \n",
        "print(num)"
      ]
    },
    {
      "cell_type": "code",
      "execution_count": null,
      "id": "6297d7d3",
      "metadata": {
        "scrolled": true,
        "id": "6297d7d3"
      },
      "outputs": [],
      "source": [
        "x=data.drop(\"HeartDisease\",axis=1)\n",
        "y = data['HeartDisease']\n",
        "y"
      ]
    },
    {
      "cell_type": "code",
      "execution_count": null,
      "id": "3ce5528f",
      "metadata": {
        "id": "3ce5528f"
      },
      "outputs": [],
      "source": [
        "x='Sex'\n",
        "xa = data['Sex'].unique()\n",
        "ya = data['HeartDisease'].values\n",
        "for i in data['Sex'].unique():\n",
        "    t=data[data['Sex']==i].count()\n",
        "    t=t['Sex']\n",
        "    t1=data[(data['Sex']==i) & (data['HeartDisease']==1)].count()\n",
        "    t1=t1['Sex']\n",
        "    print(t1/t*100)\n",
        "    "
      ]
    },
    {
      "cell_type": "markdown",
      "id": "b9391576",
      "metadata": {
        "id": "b9391576"
      },
      "source": [
        "## With categorical value types"
      ]
    },
    {
      "cell_type": "code",
      "execution_count": null,
      "id": "0588dc1f",
      "metadata": {
        "id": "0588dc1f"
      },
      "outputs": [],
      "source": [
        "\n",
        "for x in cat:\n",
        "    sns.histplot(x=x,data=data, hue='HeartDisease',palette=['y', 'c'],multiple='stack', alpha=0.7, shrink=.7)\n",
        "    plt.show()\n",
        "    for i in data[x].unique():\n",
        "        t=data[data[x]==i].count()\n",
        "        t=t[x]\n",
        "        t1=data[(data[x]==i) & (data['HeartDisease']==1)].count()\n",
        "        t1=t1[x]\n",
        "        print('percentage of heart failure among feature',i,'=',t1/t*100)\n",
        "        "
      ]
    },
    {
      "cell_type": "markdown",
      "id": "c205c073",
      "metadata": {
        "id": "c205c073"
      },
      "source": [
        "<h5>\n",
        "    <pre>\n",
        "Sex:- Male has high chances of getting heart disease as compared to females.\n",
        "ChestPain:- People having ASY type chest pain has high chance of heart Disease while People with the ATA type     chestpain has minimum chance of heart Disease.\n",
        "ExerciseAngina :- People who has Exercise Angina has high chance of Heart Disease.\n",
        "ST_Slope:- People with ST_Slop UP has minimum chance of heart Disease\n",
        "    </pre>\n",
        "</h5>"
      ]
    },
    {
      "cell_type": "markdown",
      "id": "39b873f3",
      "metadata": {
        "id": "39b873f3"
      },
      "source": [
        "## With Numerical value types"
      ]
    },
    {
      "cell_type": "code",
      "execution_count": null,
      "id": "cdf6b067",
      "metadata": {
        "scrolled": false,
        "id": "cdf6b067"
      },
      "outputs": [],
      "source": [
        "for x in num:\n",
        "    if x =='HeartDisease':\n",
        "        continue\n",
        "    sns.kdeplot(data=data, x=x,hue='HeartDisease',palette=['g', 'c'],multiple=\"stack\")\n",
        "    plt.show()"
      ]
    },
    {
      "cell_type": "markdown",
      "id": "f2fac1e7",
      "metadata": {
        "id": "f2fac1e7"
      },
      "source": [
        "<h5>\n",
        "Let us look at the people’s age who are suffering from the disease or not.\n",
        "</h5>"
      ]
    },
    {
      "cell_type": "code",
      "execution_count": null,
      "id": "4ae42121",
      "metadata": {
        "id": "4ae42121"
      },
      "outputs": [],
      "source": [
        "al = data['Age'].unique().tolist()\n",
        "ageper=[]\n",
        "agenum=[]\n",
        "agepcount= []\n",
        "for i in al:\n",
        "    a01=data['Age']==i\n",
        "    a1=data['HeartDisease']==1\n",
        "    ac01 =  data[a01].shape[0]\n",
        "    ac1=data[a01 & a1].shape[0]\n",
        "    agepcount.append(ac1)\n",
        "    agenum.append(ac01)\n",
        "    ageper.append(ac1/ac01*100)"
      ]
    },
    {
      "cell_type": "code",
      "execution_count": null,
      "id": "16b4d560",
      "metadata": {
        "id": "16b4d560"
      },
      "outputs": [],
      "source": [
        "list1 = list(zip(al,agenum,ageper,agepcount))\n",
        "df1 = pd.DataFrame(list1,columns =['age','totalcount','percentageof1','agepcount'])"
      ]
    },
    {
      "cell_type": "code",
      "execution_count": null,
      "id": "15606fd7",
      "metadata": {
        "scrolled": true,
        "id": "15606fd7"
      },
      "outputs": [],
      "source": [
        "df1=df1.sort_values(['age'])\n",
        "df1"
      ]
    },
    {
      "cell_type": "code",
      "execution_count": null,
      "id": "867d7784",
      "metadata": {
        "id": "867d7784"
      },
      "outputs": [],
      "source": [
        "#Total vs youth Unemployment\n",
        "plt.figure(figsize=(20,8))\n",
        "plt.bar(df1['age'].values-.2,df1['agepcount'].values,0.4,color='m',label='count of people suffering from the disease.')\n",
        "plt.bar(df1['age'].values+0.2,df1['totalcount'].values,0.4,color='c',label='total count of observations')\n",
        "plt.grid(True)\n",
        "plt.xlabel('Age')\n",
        "plt.xticks(df1['age'].values)\n",
        "plt.title('Plot of total count of observations and count of people suffering from the disease')\n",
        "plt.legend()"
      ]
    },
    {
      "cell_type": "markdown",
      "id": "41e718e7",
      "metadata": {
        "id": "41e718e7"
      },
      "source": [
        "We see that most people who are suffering are of the age of 58, followed by 57.\n",
        "Majorly, people belonging to the age group 50+ are likely to suffer from the disease."
      ]
    },
    {
      "cell_type": "markdown",
      "id": "08462e1f",
      "metadata": {
        "id": "08462e1f"
      },
      "source": [
        "# Correlation"
      ]
    },
    {
      "cell_type": "code",
      "execution_count": null,
      "id": "d202b772",
      "metadata": {
        "scrolled": true,
        "id": "d202b772"
      },
      "outputs": [],
      "source": [
        "data1 = data.sort_values(['Age'])\n",
        "data1.head()"
      ]
    },
    {
      "cell_type": "code",
      "execution_count": null,
      "id": "6ff41c30",
      "metadata": {
        "id": "6ff41c30"
      },
      "outputs": [],
      "source": [
        "corr = data1.corr()\n",
        "corr"
      ]
    },
    {
      "cell_type": "code",
      "execution_count": null,
      "id": "88fd7672",
      "metadata": {
        "scrolled": false,
        "id": "88fd7672"
      },
      "outputs": [],
      "source": [
        "corrheart = corr['HeartDisease']\n",
        "corrheart =corrheart[:6]\n",
        "corrheart"
      ]
    },
    {
      "cell_type": "code",
      "execution_count": null,
      "id": "fcc7da6e",
      "metadata": {
        "id": "fcc7da6e"
      },
      "outputs": [],
      "source": [
        "corr = data.corr()\n",
        "sns.heatmap(corr, cmap=\"Blues\", annot=True)"
      ]
    },
    {
      "cell_type": "code",
      "execution_count": null,
      "id": "e8e2264f",
      "metadata": {
        "id": "e8e2264f"
      },
      "outputs": [],
      "source": [
        "plt.figure(figsize=(10,8))\n",
        "plt.bar(corrheart.index,corrheart.values,0.2,color='c')\n",
        "plt.title('Correlations between input columns and target column HeartDisease')"
      ]
    },
    {
      "cell_type": "markdown",
      "id": "4b9880df",
      "metadata": {
        "id": "4b9880df"
      },
      "source": [
        "<h3>\n",
        "<pre>\n",
        "MaxHR,Oldpeak has some significant correlation to the HeartDisease\n",
        "with \n",
        "MaxHR having correlation coefficient of  -0.400421\n",
        "and \n",
        "Oldpeak having correlation coefficient of  0.403951.\n",
        "</pre>\n",
        "    </h3>"
      ]
    },
    {
      "cell_type": "markdown",
      "id": "82952683",
      "metadata": {
        "id": "82952683"
      },
      "source": [
        "\n",
        "<h1 style='background-color: powderblue;'>\n",
        "    Machine learning\n",
        "</h1>"
      ]
    },
    {
      "cell_type": "code",
      "execution_count": null,
      "id": "fa57eecc",
      "metadata": {
        "id": "fa57eecc"
      },
      "outputs": [],
      "source": [
        "from sklearn import preprocessing\n",
        "from sklearn.preprocessing import MinMaxScaler\n",
        "\n",
        "from sklearn.model_selection import train_test_split\n",
        "\n",
        "from sklearn.tree import DecisionTreeClassifier\n",
        "\n",
        "from sklearn.neighbors import KNeighborsClassifier\n",
        "from sklearn import metrics\n",
        "\n",
        "from sklearn.metrics import accuracy_score, f1_score"
      ]
    },
    {
      "cell_type": "markdown",
      "id": "68afeb65",
      "metadata": {
        "id": "68afeb65"
      },
      "source": [
        "data"
      ]
    },
    {
      "cell_type": "code",
      "execution_count": null,
      "id": "a694b104",
      "metadata": {
        "scrolled": false,
        "id": "a694b104"
      },
      "outputs": [],
      "source": [
        "data"
      ]
    },
    {
      "cell_type": "markdown",
      "id": "7e280ad8",
      "metadata": {
        "id": "7e280ad8"
      },
      "source": [
        "## Data Preprocessing "
      ]
    },
    {
      "cell_type": "code",
      "execution_count": null,
      "id": "33a501df",
      "metadata": {
        "id": "33a501df"
      },
      "outputs": [],
      "source": [
        "data['Sex']=data['Sex'].replace(\"M\", 1)\n",
        "data['Sex']=data['Sex'].replace(\"F\", 0)\n",
        "data.head()"
      ]
    },
    {
      "cell_type": "code",
      "execution_count": null,
      "id": "6deb46b3",
      "metadata": {
        "id": "6deb46b3"
      },
      "outputs": [],
      "source": [
        "cat1= cat[1:]\n",
        "cat1"
      ]
    },
    {
      "cell_type": "code",
      "execution_count": null,
      "id": "3efe2092",
      "metadata": {
        "id": "3efe2092"
      },
      "outputs": [],
      "source": [
        "for x in cat1:\n",
        "    data[x]=data[x].astype(str)\n",
        "number = preprocessing.LabelEncoder()\n",
        "for x in cat1:\n",
        "    data[x]=number.fit_transform(data[x])\n",
        "data.head(10)"
      ]
    },
    {
      "cell_type": "markdown",
      "id": "ff0cd461",
      "metadata": {
        "id": "ff0cd461"
      },
      "source": [
        "## Splittig the Data into Train and Test"
      ]
    },
    {
      "cell_type": "code",
      "execution_count": null,
      "id": "9df31ba2",
      "metadata": {
        "id": "9df31ba2"
      },
      "outputs": [],
      "source": [
        "X = data.iloc[:,:-1]\n",
        "X.head()"
      ]
    },
    {
      "cell_type": "code",
      "execution_count": null,
      "id": "062697ce",
      "metadata": {
        "scrolled": false,
        "id": "062697ce"
      },
      "outputs": [],
      "source": [
        "Y=data.iloc[:,-1:]\n",
        "Y.head()"
      ]
    },
    {
      "cell_type": "code",
      "execution_count": null,
      "id": "a8e472fa",
      "metadata": {
        "id": "a8e472fa"
      },
      "outputs": [],
      "source": [
        "X_train,X_test,Y_train,Y_test=train_test_split(X,Y, random_state = 10,test_size = 0.3)"
      ]
    },
    {
      "cell_type": "markdown",
      "id": "ae71d40d",
      "metadata": {
        "id": "ae71d40d"
      },
      "source": [
        "# Training the Model"
      ]
    },
    {
      "cell_type": "markdown",
      "id": "8f2de84e",
      "metadata": {
        "id": "8f2de84e"
      },
      "source": [
        "### DecisionTreeClassifier"
      ]
    },
    {
      "cell_type": "code",
      "execution_count": null,
      "id": "4fc8172c",
      "metadata": {
        "id": "4fc8172c"
      },
      "outputs": [],
      "source": [
        "model_dt = DecisionTreeClassifier(random_state=50)\n",
        "model_dt = model_dt.fit(X_train,Y_train)\n",
        "model_dt"
      ]
    },
    {
      "cell_type": "code",
      "execution_count": null,
      "id": "61288bdb",
      "metadata": {
        "id": "61288bdb"
      },
      "outputs": [],
      "source": [
        "model_dt=model_dt.score(X_test, Y_test)\n",
        "print(model_dt)"
      ]
    },
    {
      "cell_type": "markdown",
      "id": "1f9afb4b",
      "metadata": {
        "id": "1f9afb4b"
      },
      "source": [
        "## k-nearest neighbors"
      ]
    },
    {
      "cell_type": "code",
      "execution_count": null,
      "id": "6805e995",
      "metadata": {
        "collapsed": true,
        "id": "6805e995"
      },
      "outputs": [],
      "source": [
        "model_knn = KNeighborsClassifier(n_neighbors = 5)\n",
        "model_knn.fit(X_train, Y_train)"
      ]
    },
    {
      "cell_type": "code",
      "execution_count": null,
      "id": "8c9c75a2",
      "metadata": {
        "collapsed": true,
        "id": "8c9c75a2"
      },
      "outputs": [],
      "source": [
        "model_knn.score(X_test, Y_test)"
      ]
    },
    {
      "cell_type": "code",
      "execution_count": null,
      "id": "cef63035",
      "metadata": {
        "id": "cef63035"
      },
      "outputs": [],
      "source": [
        "klist=[]\n",
        "for i in range(20):\n",
        "    model_knn = KNeighborsClassifier(n_neighbors = i+1)\n",
        "    model_knn.fit(X_train, Y_train)\n",
        "    klist.append(model_knn.score(X_test, Y_test))\n",
        "r20=[x+1 for x in range(20) ]"
      ]
    },
    {
      "cell_type": "code",
      "execution_count": null,
      "id": "7cce2e05",
      "metadata": {
        "id": "7cce2e05"
      },
      "outputs": [],
      "source": [
        "dfplotknn=pd.DataFrame(list(zip(klist,r20)),columns=['accuracy','k-value'])"
      ]
    },
    {
      "cell_type": "code",
      "execution_count": null,
      "id": "aef653d1",
      "metadata": {
        "scrolled": true,
        "id": "aef653d1"
      },
      "outputs": [],
      "source": [
        "dfplotknn.head()"
      ]
    },
    {
      "cell_type": "markdown",
      "id": "54a64388",
      "metadata": {
        "id": "54a64388"
      },
      "source": [
        "### Finding value of K"
      ]
    },
    {
      "cell_type": "code",
      "execution_count": null,
      "id": "b5f1b853",
      "metadata": {
        "id": "b5f1b853"
      },
      "outputs": [],
      "source": [
        "plt.plot(dfplotknn['k-value'].values,dfplotknn['accuracy'].values,'-yo')\n",
        "plt.axvspan(8.5,9.5, color='c', alpha=0.3)\n",
        "plt.axis([0,20,0.5,.8])"
      ]
    },
    {
      "cell_type": "code",
      "execution_count": null,
      "id": "1ca54cfa",
      "metadata": {
        "scrolled": true,
        "id": "1ca54cfa"
      },
      "outputs": [],
      "source": [
        "maxknn=dfplotknn.iloc[8]\n",
        "maxknn"
      ]
    },
    {
      "cell_type": "markdown",
      "id": "9e2bf65f",
      "metadata": {
        "id": "9e2bf65f"
      },
      "source": [
        "##### value of k = 9"
      ]
    },
    {
      "cell_type": "code",
      "execution_count": null,
      "id": "3511115d",
      "metadata": {
        "scrolled": true,
        "id": "3511115d"
      },
      "outputs": [],
      "source": [
        "model_dt"
      ]
    },
    {
      "cell_type": "markdown",
      "id": "c8de261e",
      "metadata": {
        "id": "c8de261e"
      },
      "source": [
        "## Comparing KNN and Decision Tree"
      ]
    },
    {
      "cell_type": "code",
      "execution_count": null,
      "id": "94779024",
      "metadata": {
        "id": "94779024"
      },
      "outputs": [],
      "source": [
        "parr = np.array([maxknn[0]*100,model_dt*100]) \n",
        "label=['KNN','Decision Tree']\n",
        "plt.pie(parr,labels=label,autopct='%1.2f%%')"
      ]
    },
    {
      "cell_type": "markdown",
      "id": "3bd46879",
      "metadata": {
        "id": "3bd46879"
      },
      "source": [
        "# -------------------------------- THE END ---------------------------------------"
      ]
    }
  ],
  "metadata": {
    "kernelspec": {
      "display_name": "Python 3 (ipykernel)",
      "language": "python",
      "name": "python3"
    },
    "language_info": {
      "codemirror_mode": {
        "name": "ipython",
        "version": 3
      },
      "file_extension": ".py",
      "mimetype": "text/x-python",
      "name": "python",
      "nbconvert_exporter": "python",
      "pygments_lexer": "ipython3",
      "version": "3.8.8"
    },
    "colab": {
      "provenance": []
    }
  },
  "nbformat": 4,
  "nbformat_minor": 5
}